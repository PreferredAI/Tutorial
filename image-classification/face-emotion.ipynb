{
  "nbformat": 4,
  "nbformat_minor": 0,
  "metadata": {
    "colab": {
      "name": "face-emotion.ipynb",
      "provenance": [],
      "collapsed_sections": []
    },
    "kernelspec": {
      "name": "python3",
      "display_name": "Python 3"
    },
    "accelerator": "GPU"
  },
  "cells": [
    {
      "cell_type": "markdown",
      "metadata": {
        "id": "Lf78VMm0PjLr"
      },
      "source": [
        "<table class=\"tfo-notebook-buttons\" align=\"left\">\n",
        "  <td>\n",
        "    <a target=\"_blank\" href=\"https://colab.research.google.com/github/PreferredAI/tutorials/blob/master/image-classification/face-emotion.ipynb\"><img src=\"https://www.tensorflow.org/images/colab_logo_32px.png\" />Run in Google Colab</a>\n",
        "  </td>\n",
        "  <td>\n",
        "    <a target=\"_blank\" href=\"https://github.com/PreferredAI/tutorials/blob/master/image-classification/face-emotion.ipynb\"><img src=\"https://www.tensorflow.org/images/GitHub-Mark-32px.png\" />View source on GitHub</a>\n",
        "  </td>\n",
        "</table>"
      ]
    },
    {
      "cell_type": "markdown",
      "metadata": {
        "id": "wzPrmZOMtXt1"
      },
      "source": [
        "# Face Emotion Classification\n",
        "\n"
      ]
    },
    {
      "cell_type": "markdown",
      "metadata": {
        "id": "MqktDa7H2hKz"
      },
      "source": [
        "## 1. Setup"
      ]
    },
    {
      "cell_type": "code",
      "metadata": {
        "id": "YqKrDcGH2k7E",
        "colab": {
          "base_uri": "https://localhost:8080/"
        },
        "outputId": "dd29f4e7-2684-47df-cacd-bfa79987283b"
      },
      "source": [
        "import os\n",
        "import sys\n",
        "\n",
        "import numpy as np\n",
        "import matplotlib.pyplot as plt\n",
        "\n",
        "import tensorflow as tf\n",
        "from tensorflow.keras import layers\n",
        "\n",
        "print(f\"System version: {sys.version}\")\n",
        "print(f\"Tensorflow version: {tf.__version__}\")"
      ],
      "execution_count": null,
      "outputs": [
        {
          "output_type": "stream",
          "text": [
            "System version: 3.6.9 (default, Oct  8 2020, 12:12:24) \n",
            "[GCC 8.4.0]\n",
            "Tensorflow version: 2.4.1\n"
          ],
          "name": "stdout"
        }
      ]
    },
    {
      "cell_type": "markdown",
      "metadata": {
        "id": "E8nIDnXO4_6e"
      },
      "source": [
        "## 2. Dataset\n",
        "\n",
        "[Facial Expression Recognition](https://www.kaggle.com/c/challenges-in-representation-learning-facial-expression-recognition-challenge/data) data consists of 48x48 pixel grayscale images of faces. The task is to categorize each face based on the emotion shown in the facial expression in to one of seven categories (0=Angry, 1=Disgust, 2=Fear, 3=Happy, 4=Sad, 5=Surprise, 6=Neutral).\n",
        "\n",
        "In this tutorial, we adapt the original dataset to form a binary classification task which is categorizing each face in to one of two categories (0=Sad, 1=Happy)."
      ]
    },
    {
      "cell_type": "code",
      "metadata": {
        "colab": {
          "base_uri": "https://localhost:8080/"
        },
        "id": "pYDn6E8WVb4g",
        "outputId": "4ff8d10f-46bf-494e-fe01-b056046031bb"
      },
      "source": [
        "# Download data\n",
        "!curl -L 'https://static.preferred.ai/tutorial/face-emotion/data.zip' -o data.zip"
      ],
      "execution_count": null,
      "outputs": [
        {
          "output_type": "stream",
          "text": [
            "  % Total    % Received % Xferd  Average Speed   Time    Time     Time  Current\n",
            "                                 Dload  Upload   Total   Spent    Left  Speed\n",
            "100  9.8M  100  9.8M    0     0  2772k      0  0:00:03  0:00:03 --:--:-- 2772k\n"
          ],
          "name": "stdout"
        }
      ]
    },
    {
      "cell_type": "code",
      "metadata": {
        "id": "xxMilRrjVwym",
        "colab": {
          "base_uri": "https://localhost:8080/"
        },
        "outputId": "5fadad8f-8795-4884-b86f-7e56e20585f6"
      },
      "source": [
        "!unzip -q data.zip"
      ],
      "execution_count": null,
      "outputs": [
        {
          "output_type": "stream",
          "text": [
            "replace data/test.csv? [y]es, [n]o, [A]ll, [N]one, [r]ename: y\n",
            "replace data/images/0/2428.jpg? [y]es, [n]o, [A]ll, [N]one, [r]ename: A\n"
          ],
          "name": "stdout"
        }
      ]
    },
    {
      "cell_type": "code",
      "metadata": {
        "colab": {
          "base_uri": "https://localhost:8080/"
        },
        "id": "MEUs2ImMD3Ll",
        "outputId": "1af5eb34-ab08-4e87-c8bf-3f7d82d4d4c8"
      },
      "source": [
        "!ls data/images/"
      ],
      "execution_count": null,
      "outputs": [
        {
          "output_type": "stream",
          "text": [
            "0  1\n"
          ],
          "name": "stdout"
        }
      ]
    },
    {
      "cell_type": "markdown",
      "metadata": {
        "id": "rOST2TDtFE6s"
      },
      "source": [
        "### Prepare the data\r\n",
        "\r\n",
        "Let's use 90% of the data for model training and 10% for model validation."
      ]
    },
    {
      "cell_type": "code",
      "metadata": {
        "colab": {
          "base_uri": "https://localhost:8080/"
        },
        "id": "0yrOOp1PEzHi",
        "outputId": "40dfd118-c1dd-4816-c50a-38e9e23e8cae"
      },
      "source": [
        "val_size = 0.1  # @param\r\n",
        "batch_size = 32  # @param\r\n",
        "img_height = 48  # @param\r\n",
        "img_width = 48  # @param\r\n",
        "\r\n",
        "train_ds = tf.keras.preprocessing.image_dataset_from_directory(\r\n",
        "  \"data/images\",\r\n",
        "  validation_split=val_size,\r\n",
        "  subset=\"training\",\r\n",
        "  seed=123,\r\n",
        "  color_mode='grayscale',\r\n",
        "  image_size=(img_height, img_width),\r\n",
        "  batch_size=batch_size)\r\n",
        "\r\n",
        "val_ds = tf.keras.preprocessing.image_dataset_from_directory(\r\n",
        "  \"data/images\",\r\n",
        "  validation_split=val_size,\r\n",
        "  subset=\"validation\",\r\n",
        "  seed=123,\r\n",
        "  color_mode='grayscale',\r\n",
        "  image_size=(img_height, img_width),\r\n",
        "  batch_size=batch_size)\r\n",
        "\r\n",
        "# optimize data loading for performance\r\n",
        "AUTOTUNE = tf.data.AUTOTUNE\r\n",
        "\r\n",
        "train_ds = train_ds.cache().prefetch(buffer_size=AUTOTUNE)\r\n",
        "val_ds = val_ds.cache().prefetch(buffer_size=AUTOTUNE)"
      ],
      "execution_count": null,
      "outputs": [
        {
          "output_type": "stream",
          "text": [
            "Found 9660 files belonging to 2 classes.\n",
            "Using 8694 files for training.\n",
            "Found 9660 files belonging to 2 classes.\n",
            "Using 966 files for validation.\n"
          ],
          "name": "stdout"
        }
      ]
    },
    {
      "cell_type": "code",
      "metadata": {
        "colab": {
          "base_uri": "https://localhost:8080/",
          "height": 591
        },
        "id": "58yc9TPLFqzp",
        "outputId": "6133e7bf-7745-409b-e933-8d49f43e4149"
      },
      "source": [
        "class_names = ['Sad', \"Happy\"]\r\n",
        "\r\n",
        "plt.figure(figsize=(10, 10))\r\n",
        "for images, labels in train_ds.take(1):\r\n",
        "  for i in range(9):\r\n",
        "    ax = plt.subplot(3, 3, i + 1)\r\n",
        "    plt.imshow(images[i].numpy().astype(\"uint8\").reshape(48, 48), cmap='gray')\r\n",
        "    plt.title(class_names[labels[i]])\r\n",
        "    plt.axis(\"off\")"
      ],
      "execution_count": null,
      "outputs": [
        {
          "output_type": "display_data",
          "data": {
            "image/png": "[encoded data removed]",
            "text/plain": [
              "<Figure size 720x720 with 9 Axes>"
            ]
          },
          "metadata": {
            "tags": [],
            "needs_background": "light"
          }
        }
      ]
    },
    {
      "cell_type": "markdown",
      "metadata": {
        "id": "0ogkNd8_6qhR"
      },
      "source": [
        "## 3. Multilayer Perceptron (MLP)\r\n"
      ]
    },
    {
      "cell_type": "code",
      "metadata": {
        "colab": {
          "base_uri": "https://localhost:8080/"
        },
        "id": "zWxrTpRoDaMO",
        "outputId": "2f9183f4-3adb-4eda-e386-8bb869dc3b1b"
      },
      "source": [
        "hidden_units = 128  # @param\r\n",
        "dropout_rate = 0.2  # @param\r\n",
        "learning_rate = 0.01  # @param\r\n",
        "\r\n",
        "mlp_model = tf.keras.Sequential([\r\n",
        "  tf.keras.Input(shape=(img_height, img_width, 1)),\r\n",
        "  layers.experimental.preprocessing.RandomFlip('horizontal'),\r\n",
        "  layers.experimental.preprocessing.Rescaling(1./127.5, offset=-1),                        \r\n",
        "  layers.Flatten(),\r\n",
        "  layers.Dense(hidden_units, activation='relu'),\r\n",
        "  layers.Dropout(rate=dropout_rate),\r\n",
        "  layers.Dense(hidden_units, activation='relu'),\r\n",
        "  layers.Dense(2)\r\n",
        "], name=\"MLP\")\r\n",
        "\r\n",
        "mlp_model.compile(\r\n",
        "  optimizer=tf.keras.optimizers.SGD(learning_rate,  momentum=0.9),\r\n",
        "  loss=tf.losses.SparseCategoricalCrossentropy(from_logits=True),\r\n",
        "  metrics=['accuracy']\r\n",
        ")\r\n",
        "\r\n",
        "mlp_model.summary()"
      ],
      "execution_count": null,
      "outputs": [
        {
          "output_type": "stream",
          "text": [
            "Model: \"MLP\"\n",
            "_________________________________________________________________\n",
            "Layer (type)                 Output Shape              Param #   \n",
            "=================================================================\n",
            "random_flip (RandomFlip)     (None, 48, 48, 1)         0         \n",
            "_________________________________________________________________\n",
            "rescaling (Rescaling)        (None, 48, 48, 1)         0         \n",
            "_________________________________________________________________\n",
            "flatten (Flatten)            (None, 2304)              0         \n",
            "_________________________________________________________________\n",
            "dense (Dense)                (None, 128)               295040    \n",
            "_________________________________________________________________\n",
            "dropout (Dropout)            (None, 128)               0         \n",
            "_________________________________________________________________\n",
            "dense_1 (Dense)              (None, 128)               16512     \n",
            "_________________________________________________________________\n",
            "dense_2 (Dense)              (None, 2)                 258       \n",
            "=================================================================\n",
            "Total params: 311,810\n",
            "Trainable params: 311,810\n",
            "Non-trainable params: 0\n",
            "_________________________________________________________________\n"
          ],
          "name": "stdout"
        }
      ]
    },
    {
      "cell_type": "code",
      "metadata": {
        "colab": {
          "base_uri": "https://localhost:8080/"
        },
        "id": "AymZf6pF3ACL",
        "outputId": "dd0792e0-6828-4d99-fd44-757bc08ecd4e"
      },
      "source": [
        "mlp_model.fit(\r\n",
        "  train_ds,\r\n",
        "  validation_data=val_ds,\r\n",
        "  epochs=20\r\n",
        ")"
      ],
      "execution_count": null,
      "outputs": [
        {
          "output_type": "stream",
          "text": [
            "Epoch 1/20\n",
            "272/272 [==============================] - 4s 11ms/step - loss: 0.6769 - accuracy: 0.6010 - val_loss: 0.5762 - val_accuracy: 0.7122\n",
            "Epoch 2/20\n",
            "272/272 [==============================] - 1s 2ms/step - loss: 0.5854 - accuracy: 0.6887 - val_loss: 0.5505 - val_accuracy: 0.7371\n",
            "Epoch 3/20\n",
            "272/272 [==============================] - 1s 2ms/step - loss: 0.5566 - accuracy: 0.7162 - val_loss: 0.5445 - val_accuracy: 0.7215\n",
            "Epoch 4/20\n",
            "272/272 [==============================] - 1s 2ms/step - loss: 0.5393 - accuracy: 0.7246 - val_loss: 0.5258 - val_accuracy: 0.7350\n",
            "Epoch 5/20\n",
            "272/272 [==============================] - 1s 2ms/step - loss: 0.5178 - accuracy: 0.7390 - val_loss: 0.5226 - val_accuracy: 0.7453\n",
            "Epoch 6/20\n",
            "272/272 [==============================] - 1s 3ms/step - loss: 0.5094 - accuracy: 0.7435 - val_loss: 0.5232 - val_accuracy: 0.7453\n",
            "Epoch 7/20\n",
            "272/272 [==============================] - 1s 2ms/step - loss: 0.4950 - accuracy: 0.7626 - val_loss: 0.5240 - val_accuracy: 0.7453\n",
            "Epoch 8/20\n",
            "272/272 [==============================] - 1s 2ms/step - loss: 0.4866 - accuracy: 0.7655 - val_loss: 0.5102 - val_accuracy: 0.7567\n",
            "Epoch 9/20\n",
            "272/272 [==============================] - 1s 2ms/step - loss: 0.4750 - accuracy: 0.7645 - val_loss: 0.5077 - val_accuracy: 0.7505\n",
            "Epoch 10/20\n",
            "272/272 [==============================] - 1s 2ms/step - loss: 0.4703 - accuracy: 0.7793 - val_loss: 0.4863 - val_accuracy: 0.7650\n",
            "Epoch 11/20\n",
            "272/272 [==============================] - 1s 2ms/step - loss: 0.4556 - accuracy: 0.7780 - val_loss: 0.5128 - val_accuracy: 0.7526\n",
            "Epoch 12/20\n",
            "272/272 [==============================] - 1s 2ms/step - loss: 0.4520 - accuracy: 0.7823 - val_loss: 0.4974 - val_accuracy: 0.7650\n",
            "Epoch 13/20\n",
            "272/272 [==============================] - 1s 2ms/step - loss: 0.4381 - accuracy: 0.7942 - val_loss: 0.4896 - val_accuracy: 0.7660\n",
            "Epoch 14/20\n",
            "272/272 [==============================] - 1s 3ms/step - loss: 0.4280 - accuracy: 0.7978 - val_loss: 0.4960 - val_accuracy: 0.7650\n",
            "Epoch 15/20\n",
            "272/272 [==============================] - 1s 2ms/step - loss: 0.4238 - accuracy: 0.7967 - val_loss: 0.5049 - val_accuracy: 0.7671\n",
            "Epoch 16/20\n",
            "272/272 [==============================] - 1s 2ms/step - loss: 0.4094 - accuracy: 0.8204 - val_loss: 0.5271 - val_accuracy: 0.7505\n",
            "Epoch 17/20\n",
            "272/272 [==============================] - 1s 3ms/step - loss: 0.4108 - accuracy: 0.8136 - val_loss: 0.4999 - val_accuracy: 0.7567\n",
            "Epoch 18/20\n",
            "272/272 [==============================] - 1s 2ms/step - loss: 0.4074 - accuracy: 0.8138 - val_loss: 0.5114 - val_accuracy: 0.7650\n",
            "Epoch 19/20\n",
            "272/272 [==============================] - 1s 3ms/step - loss: 0.3931 - accuracy: 0.8215 - val_loss: 0.5066 - val_accuracy: 0.7598\n",
            "Epoch 20/20\n",
            "272/272 [==============================] - 1s 3ms/step - loss: 0.3851 - accuracy: 0.8226 - val_loss: 0.5137 - val_accuracy: 0.7598\n"
          ],
          "name": "stdout"
        },
        {
          "output_type": "execute_result",
          "data": {
            "text/plain": [
              "<tensorflow.python.keras.callbacks.History at 0x7f76fc60f780>"
            ]
          },
          "metadata": {
            "tags": []
          },
          "execution_count": 8
        }
      ]
    },
    {
      "cell_type": "markdown",
      "metadata": {
        "id": "HCi0KeWrW-RV"
      },
      "source": [
        "## 4. Shallow CNN\r\n",
        "\r\n"
      ]
    },
    {
      "cell_type": "code",
      "metadata": {
        "colab": {
          "base_uri": "https://localhost:8080/"
        },
        "id": "Y_CsADJhKo6j",
        "outputId": "471c29ce-16ac-45a2-d61d-e1beb1aeed9f"
      },
      "source": [
        "filters = 32  # @param\r\n",
        "kernel_size = [3, 3]  # @param\r\n",
        "strides = 1 # @param\r\n",
        "hidden_units = 128  # @param\r\n",
        "dropout_rate = 0.2  # @param\r\n",
        "learning_rate = 0.01 # @param\r\n",
        "\r\n",
        "shallow_cnn_model = tf.keras.Sequential([\r\n",
        "  tf.keras.Input(shape=(img_height, img_width, 1)),\r\n",
        "  layers.experimental.preprocessing.RandomFlip('horizontal'),\r\n",
        "  layers.experimental.preprocessing.Rescaling(1./127.5, offset=-1),  \r\n",
        "  layers.Conv2D(filters, kernel_size, strides, padding='same', activation='relu'),\r\n",
        "  layers.MaxPooling2D(pool_size=[2, 2], strides=2),\r\n",
        "  layers.Flatten(),\r\n",
        "  layers.Dropout(rate=dropout_rate),\r\n",
        "  layers.Dense(hidden_units, activation='relu'),\r\n",
        "  layers.Dense(2)\r\n",
        "], name=\"Shallow-CNN\")\r\n",
        "\r\n",
        "shallow_cnn_model.compile(\r\n",
        "  optimizer=tf.keras.optimizers.SGD(learning_rate, momentum=0.9),\r\n",
        "  loss=tf.losses.SparseCategoricalCrossentropy(from_logits=True),\r\n",
        "  metrics=['accuracy']\r\n",
        ")\r\n",
        "\r\n",
        "shallow_cnn_model.summary()"
      ],
      "execution_count": null,
      "outputs": [
        {
          "output_type": "stream",
          "text": [
            "Model: \"Shallow-CNN\"\n",
            "_________________________________________________________________\n",
            "Layer (type)                 Output Shape              Param #   \n",
            "=================================================================\n",
            "random_flip_1 (RandomFlip)   (None, 48, 48, 1)         0         \n",
            "_________________________________________________________________\n",
            "rescaling_1 (Rescaling)      (None, 48, 48, 1)         0         \n",
            "_________________________________________________________________\n",
            "conv2d (Conv2D)              (None, 48, 48, 32)        320       \n",
            "_________________________________________________________________\n",
            "max_pooling2d (MaxPooling2D) (None, 24, 24, 32)        0         \n",
            "_________________________________________________________________\n",
            "flatten_1 (Flatten)          (None, 18432)             0         \n",
            "_________________________________________________________________\n",
            "dropout_1 (Dropout)          (None, 18432)             0         \n",
            "_________________________________________________________________\n",
            "dense_3 (Dense)              (None, 128)               2359424   \n",
            "_________________________________________________________________\n",
            "dense_4 (Dense)              (None, 2)                 258       \n",
            "=================================================================\n",
            "Total params: 2,360,002\n",
            "Trainable params: 2,360,002\n",
            "Non-trainable params: 0\n",
            "_________________________________________________________________\n"
          ],
          "name": "stdout"
        }
      ]
    },
    {
      "cell_type": "code",
      "metadata": {
        "colab": {
          "base_uri": "https://localhost:8080/"
        },
        "id": "sE2xX2Ee3Y4_",
        "outputId": "63a945fa-a12d-4e89-ea89-90e68c0a3e99"
      },
      "source": [
        "shallow_cnn_model.fit(\r\n",
        "  train_ds,\r\n",
        "  validation_data=val_ds,\r\n",
        "  epochs=20\r\n",
        ")"
      ],
      "execution_count": null,
      "outputs": [
        {
          "output_type": "stream",
          "text": [
            "Epoch 1/20\n",
            "272/272 [==============================] - 3s 4ms/step - loss: 0.6557 - accuracy: 0.6080 - val_loss: 0.5294 - val_accuracy: 0.7536\n",
            "Epoch 2/20\n",
            "272/272 [==============================] - 1s 3ms/step - loss: 0.5523 - accuracy: 0.7168 - val_loss: 0.4933 - val_accuracy: 0.7671\n",
            "Epoch 3/20\n",
            "272/272 [==============================] - 1s 3ms/step - loss: 0.5070 - accuracy: 0.7385 - val_loss: 0.4848 - val_accuracy: 0.7764\n",
            "Epoch 4/20\n",
            "272/272 [==============================] - 1s 3ms/step - loss: 0.4739 - accuracy: 0.7675 - val_loss: 0.4668 - val_accuracy: 0.7743\n",
            "Epoch 5/20\n",
            "272/272 [==============================] - 1s 3ms/step - loss: 0.4331 - accuracy: 0.7900 - val_loss: 0.4716 - val_accuracy: 0.7764\n",
            "Epoch 6/20\n",
            "272/272 [==============================] - 1s 3ms/step - loss: 0.4211 - accuracy: 0.7978 - val_loss: 0.4638 - val_accuracy: 0.7940\n",
            "Epoch 7/20\n",
            "272/272 [==============================] - 1s 3ms/step - loss: 0.3867 - accuracy: 0.8247 - val_loss: 0.4453 - val_accuracy: 0.8002\n",
            "Epoch 8/20\n",
            "272/272 [==============================] - 1s 3ms/step - loss: 0.3636 - accuracy: 0.8330 - val_loss: 0.4732 - val_accuracy: 0.7950\n",
            "Epoch 9/20\n",
            "272/272 [==============================] - 1s 3ms/step - loss: 0.3342 - accuracy: 0.8510 - val_loss: 0.4666 - val_accuracy: 0.7971\n",
            "Epoch 10/20\n",
            "272/272 [==============================] - 1s 3ms/step - loss: 0.2982 - accuracy: 0.8715 - val_loss: 0.4827 - val_accuracy: 0.7961\n",
            "Epoch 11/20\n",
            "272/272 [==============================] - 1s 3ms/step - loss: 0.2783 - accuracy: 0.8793 - val_loss: 0.5076 - val_accuracy: 0.7930\n",
            "Epoch 12/20\n",
            "272/272 [==============================] - 1s 3ms/step - loss: 0.2583 - accuracy: 0.8933 - val_loss: 0.5395 - val_accuracy: 0.7940\n",
            "Epoch 13/20\n",
            "272/272 [==============================] - 1s 3ms/step - loss: 0.2272 - accuracy: 0.9011 - val_loss: 0.5214 - val_accuracy: 0.7992\n",
            "Epoch 14/20\n",
            "272/272 [==============================] - 1s 3ms/step - loss: 0.1951 - accuracy: 0.9215 - val_loss: 0.5879 - val_accuracy: 0.7992\n",
            "Epoch 15/20\n",
            "272/272 [==============================] - 1s 3ms/step - loss: 0.1802 - accuracy: 0.9302 - val_loss: 0.6572 - val_accuracy: 0.7650\n",
            "Epoch 16/20\n",
            "272/272 [==============================] - 1s 3ms/step - loss: 0.1572 - accuracy: 0.9415 - val_loss: 0.5959 - val_accuracy: 0.7992\n",
            "Epoch 17/20\n",
            "272/272 [==============================] - 1s 3ms/step - loss: 0.1509 - accuracy: 0.9409 - val_loss: 0.6483 - val_accuracy: 0.7847\n",
            "Epoch 18/20\n",
            "272/272 [==============================] - 1s 3ms/step - loss: 0.1317 - accuracy: 0.9512 - val_loss: 0.7013 - val_accuracy: 0.7919\n",
            "Epoch 19/20\n",
            "272/272 [==============================] - 1s 3ms/step - loss: 0.1193 - accuracy: 0.9539 - val_loss: 0.7462 - val_accuracy: 0.7888\n",
            "Epoch 20/20\n",
            "272/272 [==============================] - 1s 3ms/step - loss: 0.1224 - accuracy: 0.9556 - val_loss: 0.7184 - val_accuracy: 0.7743\n"
          ],
          "name": "stdout"
        },
        {
          "output_type": "execute_result",
          "data": {
            "text/plain": [
              "<tensorflow.python.keras.callbacks.History at 0x7f7658319a20>"
            ]
          },
          "metadata": {
            "tags": []
          },
          "execution_count": 10
        }
      ]
    },
    {
      "cell_type": "markdown",
      "metadata": {
        "id": "VEmSw99ZXBPa"
      },
      "source": [
        "## 5. Deep CNN"
      ]
    },
    {
      "cell_type": "code",
      "metadata": {
        "colab": {
          "base_uri": "https://localhost:8080/"
        },
        "id": "a0wSJlK8MIjG",
        "outputId": "d85aae20-a2d2-40d9-b618-98cedeb08c7f"
      },
      "source": [
        "filters = 32  # @param\r\n",
        "kernel_size = [3, 3]  # @param\r\n",
        "strides = 1 # @param\r\n",
        "hidden_units = 128  # @param\r\n",
        "dropout_rate = 0.2  # @param\r\n",
        "learning_rate = 0.01 # @param\r\n",
        "\r\n",
        "deep_cnn_model = tf.keras.Sequential([\r\n",
        "  tf.keras.Input(shape=(img_height, img_width, 1)),\r\n",
        "  layers.experimental.preprocessing.RandomFlip('horizontal'),\r\n",
        "  layers.experimental.preprocessing.Rescaling(1./127.5, offset=-1),\r\n",
        "  layers.Conv2D(filters, kernel_size, strides, padding='same', activation='relu'),\r\n",
        "  layers.MaxPooling2D(pool_size=[2, 2], strides=2),\r\n",
        "  layers.Conv2D(2 * filters, kernel_size, strides, padding='same', activation='relu'),\r\n",
        "  layers.MaxPooling2D(pool_size=[2, 2], strides=2),\r\n",
        "  layers.Conv2D(4 * filters, kernel_size, strides, padding='same', activation='relu'),\r\n",
        "  layers.Conv2D(4 * filters, kernel_size, strides, padding='same', activation='relu'),\r\n",
        "  layers.MaxPooling2D(pool_size=[2, 2], strides=2),\r\n",
        "  layers.Flatten(),\r\n",
        "  layers.Dropout(rate=dropout_rate),\r\n",
        "  layers.Dense(hidden_units, activation='relu'),\r\n",
        "  layers.Dense(2)\r\n",
        "], name=\"Deep-CNN\")\r\n",
        "\r\n",
        "deep_cnn_model.compile(\r\n",
        "  optimizer=tf.keras.optimizers.SGD(learning_rate,  momentum=0.9),\r\n",
        "  loss=tf.losses.SparseCategoricalCrossentropy(from_logits=True),\r\n",
        "  metrics=['accuracy']\r\n",
        ")\r\n",
        "\r\n",
        "deep_cnn_model.summary()"
      ],
      "execution_count": null,
      "outputs": [
        {
          "output_type": "stream",
          "text": [
            "Model: \"Deep-CNN\"\n",
            "_________________________________________________________________\n",
            "Layer (type)                 Output Shape              Param #   \n",
            "=================================================================\n",
            "random_flip_2 (RandomFlip)   (None, 48, 48, 1)         0         \n",
            "_________________________________________________________________\n",
            "rescaling_2 (Rescaling)      (None, 48, 48, 1)         0         \n",
            "_________________________________________________________________\n",
            "conv2d_1 (Conv2D)            (None, 48, 48, 32)        320       \n",
            "_________________________________________________________________\n",
            "max_pooling2d_1 (MaxPooling2 (None, 24, 24, 32)        0         \n",
            "_________________________________________________________________\n",
            "conv2d_2 (Conv2D)            (None, 24, 24, 64)        18496     \n",
            "_________________________________________________________________\n",
            "max_pooling2d_2 (MaxPooling2 (None, 12, 12, 64)        0         \n",
            "_________________________________________________________________\n",
            "conv2d_3 (Conv2D)            (None, 12, 12, 128)       73856     \n",
            "_________________________________________________________________\n",
            "conv2d_4 (Conv2D)            (None, 12, 12, 128)       147584    \n",
            "_________________________________________________________________\n",
            "max_pooling2d_3 (MaxPooling2 (None, 6, 6, 128)         0         \n",
            "_________________________________________________________________\n",
            "flatten_2 (Flatten)          (None, 4608)              0         \n",
            "_________________________________________________________________\n",
            "dropout_2 (Dropout)          (None, 4608)              0         \n",
            "_________________________________________________________________\n",
            "dense_5 (Dense)              (None, 128)               589952    \n",
            "_________________________________________________________________\n",
            "dense_6 (Dense)              (None, 2)                 258       \n",
            "=================================================================\n",
            "Total params: 830,466\n",
            "Trainable params: 830,466\n",
            "Non-trainable params: 0\n",
            "_________________________________________________________________\n"
          ],
          "name": "stdout"
        }
      ]
    },
    {
      "cell_type": "code",
      "metadata": {
        "colab": {
          "base_uri": "https://localhost:8080/"
        },
        "id": "lfbTNw8-3l_4",
        "outputId": "7c1247f2-569a-45a4-e393-97655b0d2892"
      },
      "source": [
        "history = deep_cnn_model.fit(\r\n",
        "  train_ds,\r\n",
        "  validation_data=val_ds,\r\n",
        "  epochs=20\r\n",
        ")"
      ],
      "execution_count": null,
      "outputs": [
        {
          "output_type": "stream",
          "text": [
            "Epoch 1/20\n",
            "272/272 [==============================] - 2s 5ms/step - loss: 0.6830 - accuracy: 0.5475 - val_loss: 0.5652 - val_accuracy: 0.7153\n",
            "Epoch 2/20\n",
            "272/272 [==============================] - 1s 5ms/step - loss: 0.5806 - accuracy: 0.6979 - val_loss: 0.4862 - val_accuracy: 0.7619\n",
            "Epoch 3/20\n",
            "272/272 [==============================] - 1s 5ms/step - loss: 0.4946 - accuracy: 0.7606 - val_loss: 0.4329 - val_accuracy: 0.7878\n",
            "Epoch 4/20\n",
            "272/272 [==============================] - 1s 5ms/step - loss: 0.4269 - accuracy: 0.7979 - val_loss: 0.4240 - val_accuracy: 0.7930\n",
            "Epoch 5/20\n",
            "272/272 [==============================] - 1s 5ms/step - loss: 0.3799 - accuracy: 0.8219 - val_loss: 0.4026 - val_accuracy: 0.8178\n",
            "Epoch 6/20\n",
            "272/272 [==============================] - 1s 5ms/step - loss: 0.3548 - accuracy: 0.8436 - val_loss: 0.3914 - val_accuracy: 0.8323\n",
            "Epoch 7/20\n",
            "272/272 [==============================] - 1s 5ms/step - loss: 0.3262 - accuracy: 0.8525 - val_loss: 0.4287 - val_accuracy: 0.8126\n",
            "Epoch 8/20\n",
            "272/272 [==============================] - 1s 5ms/step - loss: 0.3124 - accuracy: 0.8673 - val_loss: 0.3528 - val_accuracy: 0.8478\n",
            "Epoch 9/20\n",
            "272/272 [==============================] - 1s 5ms/step - loss: 0.2853 - accuracy: 0.8761 - val_loss: 0.3700 - val_accuracy: 0.8551\n",
            "Epoch 10/20\n",
            "272/272 [==============================] - 1s 5ms/step - loss: 0.2716 - accuracy: 0.8846 - val_loss: 0.3445 - val_accuracy: 0.8540\n",
            "Epoch 11/20\n",
            "272/272 [==============================] - 1s 5ms/step - loss: 0.2480 - accuracy: 0.8982 - val_loss: 0.3480 - val_accuracy: 0.8571\n",
            "Epoch 12/20\n",
            "272/272 [==============================] - 1s 5ms/step - loss: 0.2370 - accuracy: 0.9049 - val_loss: 0.3331 - val_accuracy: 0.8644\n",
            "Epoch 13/20\n",
            "272/272 [==============================] - 1s 5ms/step - loss: 0.2209 - accuracy: 0.9087 - val_loss: 0.3432 - val_accuracy: 0.8685\n",
            "Epoch 14/20\n",
            "272/272 [==============================] - 1s 5ms/step - loss: 0.1888 - accuracy: 0.9236 - val_loss: 0.3529 - val_accuracy: 0.8654\n",
            "Epoch 15/20\n",
            "272/272 [==============================] - 1s 5ms/step - loss: 0.1834 - accuracy: 0.9258 - val_loss: 0.3496 - val_accuracy: 0.8737\n",
            "Epoch 16/20\n",
            "272/272 [==============================] - 1s 5ms/step - loss: 0.1700 - accuracy: 0.9326 - val_loss: 0.3478 - val_accuracy: 0.8727\n",
            "Epoch 17/20\n",
            "272/272 [==============================] - 1s 5ms/step - loss: 0.1611 - accuracy: 0.9355 - val_loss: 0.3409 - val_accuracy: 0.8892\n",
            "Epoch 18/20\n",
            "272/272 [==============================] - 1s 5ms/step - loss: 0.1481 - accuracy: 0.9395 - val_loss: 0.3594 - val_accuracy: 0.8830\n",
            "Epoch 19/20\n",
            "272/272 [==============================] - 1s 5ms/step - loss: 0.1347 - accuracy: 0.9479 - val_loss: 0.4291 - val_accuracy: 0.8758\n",
            "Epoch 20/20\n",
            "272/272 [==============================] - 1s 5ms/step - loss: 0.1368 - accuracy: 0.9478 - val_loss: 0.4252 - val_accuracy: 0.8696\n"
          ],
          "name": "stdout"
        }
      ]
    },
    {
      "cell_type": "code",
      "metadata": {
        "colab": {
          "base_uri": "https://localhost:8080/",
          "height": 513
        },
        "id": "-99Z2DH_4Eoq",
        "outputId": "0497bcb6-9894-4f78-9469-384034c1780c"
      },
      "source": [
        "acc = history.history['accuracy']\r\n",
        "val_acc = history.history['val_accuracy']\r\n",
        "\r\n",
        "loss = history.history['loss']\r\n",
        "val_loss = history.history['val_loss']\r\n",
        "\r\n",
        "plt.figure(figsize=(8, 8))\r\n",
        "plt.subplot(2, 1, 1)\r\n",
        "plt.plot(acc, label='Training Accuracy')\r\n",
        "plt.plot(val_acc, label='Validation Accuracy')\r\n",
        "plt.legend(loc='lower right')\r\n",
        "plt.ylabel('Accuracy')\r\n",
        "plt.ylim([min(plt.ylim()),1])\r\n",
        "plt.title('Training and Validation Accuracy')\r\n",
        "\r\n",
        "plt.subplot(2, 1, 2)\r\n",
        "plt.plot(loss, label='Training Loss')\r\n",
        "plt.plot(val_loss, label='Validation Loss')\r\n",
        "plt.legend(loc='upper right')\r\n",
        "plt.ylabel('Cross Entropy')\r\n",
        "plt.ylim([0,1.0])\r\n",
        "plt.title('Training and Validation Loss')\r\n",
        "plt.xlabel('epoch')\r\n",
        "plt.show()"
      ],
      "execution_count": null,
      "outputs": [
        {
          "output_type": "display_data",
          "data": {
            "image/png": "[encoded data removed]",
            "text/plain": [
              "<Figure size 576x576 with 2 Axes>"
            ]
          },
          "metadata": {
            "tags": [],
            "needs_background": "light"
          }
        }
      ]
    },
    {
      "cell_type": "markdown",
      "metadata": {
        "id": "4YKNpAA9XRhS"
      },
      "source": [
        "## 6. Visualization of Learned CNN Filters\n",
        "\n",
        "Here we visualize the Deep CNN model with saliency map of images using [Guided Backpropagation](https://arxiv.org/abs/1412.6806) technique, and the activation maps of the 4th convolutional layer of the network.\n",
        "\n",
        "We may notice that the model focuses more on the mouth with Happy emotion, while other parts of the face are paid attention with Sad emotion.\n",
        "\n",
        "| Input Image                                                                                                                      | Saliency Map                                                                                                                                  | Activation Maps of the 4th Convolutional Layer                                                                                       | Label |\n",
        "| :------------------------------------------------------------------------------------------------------------------------------: | :-------------------------------------------------------------------------------------------------------------------------------------------: | :------------------------------------------------------------------------------------------------------------------------------------: | :---: |\n",
        "| ![](https://raw.githubusercontent.com/PreferredAI/tutorials/master/image-classification/face-emotion/visualization/82.jpg)  | ![](https://raw.githubusercontent.com/PreferredAI/tutorials/master/image-classification/face-emotion/visualization/saliency_map_82.jpg)  | ![](https://raw.githubusercontent.com/PreferredAI/tutorials/master/image-classification/face-emotion/visualization/conv4_82.jpg)  | Happy |\n",
        "| ![](https://raw.githubusercontent.com/PreferredAI/tutorials/master/image-classification/face-emotion/visualization/130.jpg) | ![](https://raw.githubusercontent.com/PreferredAI/tutorials/master/image-classification/face-emotion/visualization/saliency_map_130.jpg) | ![](https://raw.githubusercontent.com/PreferredAI/tutorials/master/image-classification/face-emotion/visualization/conv4_130.jpg) | Sad   |\n",
        "| ![](https://raw.githubusercontent.com/PreferredAI/tutorials/master/image-classification/face-emotion/visualization/791.jpg) | ![](https://raw.githubusercontent.com/PreferredAI/tutorials/master/image-classification/face-emotion/visualization/saliency_map_791.jpg) | ![](https://raw.githubusercontent.com/PreferredAI/tutorials/master/image-classification/face-emotion/visualization/conv4_791.jpg) | Happy |\n",
        "| ![](https://raw.githubusercontent.com/PreferredAI/tutorials/master/image-classification/face-emotion/visualization/607.jpg) | ![](https://raw.githubusercontent.com/PreferredAI/tutorials/master/image-classification/face-emotion/visualization/saliency_map_607.jpg) | ![](https://raw.githubusercontent.com/PreferredAI/tutorials/master/image-classification/face-emotion/visualization/conv4_607.jpg) | Sad   |\n",
        "\n",
        "Please refer to this [code](https://github.com/PreferredAI/tutorials/blob/7ccc67cde2408c873a6cba66b58ec56dee236a17/image-classification/face-emotion/src/visualize.py) for more details."
      ]
    }
  ]
}