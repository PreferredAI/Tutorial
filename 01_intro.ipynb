{
  "nbformat": 4,
  "nbformat_minor": 0,
  "metadata": {
    "colab": {
      "name": "01_intro.ipynb",
      "provenance": [],
      "collapsed_sections": []
    },
    "kernelspec": {
      "name": "python3",
      "display_name": "Python 3"
    }
  },
  "cells": [
    {
      "cell_type": "markdown",
      "metadata": {
        "id": "GQQHkSkz16j5",
        "colab_type": "text"
      },
      "source": [
        "[![Open In Colab](https://colab.research.google.com/assets/colab-badge.svg)](https://colab.research.google.com/github/PreferredAI/tutorials/blob/master/recommender-systems/01_intro.ipynb)"
      ]
    },
    {
      "cell_type": "markdown",
      "metadata": {
        "id": "MqktDa7H2hKz",
        "colab_type": "text"
      },
      "source": [
        "# 1. Setup"
      ]
    },
    {
      "cell_type": "code",
      "metadata": {
        "id": "41oWCMUG2eC_",
        "colab_type": "code",
        "colab": {}
      },
      "source": [
        "!pip install --quiet cornac==1.4.1"
      ],
      "execution_count": 0,
      "outputs": []
    },
    {
      "cell_type": "code",
      "metadata": {
        "id": "YqKrDcGH2k7E",
        "colab_type": "code",
        "outputId": "b9fe0f9d-c9fb-47e6-da59-b9fd57265873",
        "colab": {
          "base_uri": "https://localhost:8080/",
          "height": 122
        }
      },
      "source": [
        "import os\n",
        "import sys\n",
        "\n",
        "import cornac\n",
        "import numpy as np\n",
        "import pandas as pd\n",
        "import matplotlib.pyplot as plt\n",
        "import seaborn as sns\n",
        "from scipy import stats, sparse\n",
        "\n",
        "%matplotlib inline\n",
        "\n",
        "print(f\"System version: {sys.version}\")\n",
        "print(f\"Cornac version: {cornac.__version__}\")"
      ],
      "execution_count": 0,
      "outputs": [
        {
          "output_type": "stream",
          "text": [
            "System version: 3.6.9 (default, Nov  7 2019, 10:44:02) \n",
            "[GCC 8.3.0]\n",
            "Cornac version: 1.4.1\n"
          ],
          "name": "stdout"
        },
        {
          "output_type": "stream",
          "text": [
            "/usr/local/lib/python3.6/dist-packages/statsmodels/tools/_testing.py:19: FutureWarning: pandas.util.testing is deprecated. Use the functions in the public API at pandas.testing instead.\n",
            "  import pandas.util.testing as tm\n"
          ],
          "name": "stderr"
        }
      ]
    },
    {
      "cell_type": "markdown",
      "metadata": {
        "id": "E8nIDnXO4_6e",
        "colab_type": "text"
      },
      "source": [
        "# 2. Data exploration\n",
        "\n",
        "We are going to explore [MovieLens](https://grouplens.org/datasets/movielens/) dataset.  For the purpose of demonstration, we will use the small one with 100K ratings.  The dataset is built-in and can be loaded using Cornac library.  More datasets are available [here](https://github.com/PreferredAI/cornac/blob/master/cornac/datasets/README.md).\n",
        "\n",
        "Most of the time we will see the dataset in recommendation being represented by a form of triplets (*user_id*, *item_id*, *rating*).  For this MovieLens dataset, we have rating values are in {1, 2, 3, 4, 5}."
      ]
    },
    {
      "cell_type": "code",
      "metadata": {
        "id": "sb5PEaHl4RnT",
        "colab_type": "code",
        "outputId": "7c92d2ac-fceb-4e0a-d96b-43ec4bd29f48",
        "colab": {
          "base_uri": "https://localhost:8080/",
          "height": 204
        }
      },
      "source": [
        "data = cornac.datasets.movielens.load_feedback(variant=\"100K\")\n",
        "df = pd.DataFrame(data, columns=[\"user_id\", \"item_id\", \"rating\"])\n",
        "df.head()"
      ],
      "execution_count": 0,
      "outputs": [
        {
          "output_type": "execute_result",
          "data": {
            "text/html": [
              "<div>\n",
              "<style scoped>\n",
              "    .dataframe tbody tr th:only-of-type {\n",
              "        vertical-align: middle;\n",
              "    }\n",
              "\n",
              "    .dataframe tbody tr th {\n",
              "        vertical-align: top;\n",
              "    }\n",
              "\n",
              "    .dataframe thead th {\n",
              "        text-align: right;\n",
              "    }\n",
              "</style>\n",
              "<table border=\"1\" class=\"dataframe\">\n",
              "  <thead>\n",
              "    <tr style=\"text-align: right;\">\n",
              "      <th></th>\n",
              "      <th>user_id</th>\n",
              "      <th>item_id</th>\n",
              "      <th>rating</th>\n",
              "    </tr>\n",
              "  </thead>\n",
              "  <tbody>\n",
              "    <tr>\n",
              "      <th>0</th>\n",
              "      <td>196</td>\n",
              "      <td>242</td>\n",
              "      <td>3.0</td>\n",
              "    </tr>\n",
              "    <tr>\n",
              "      <th>1</th>\n",
              "      <td>186</td>\n",
              "      <td>302</td>\n",
              "      <td>3.0</td>\n",
              "    </tr>\n",
              "    <tr>\n",
              "      <th>2</th>\n",
              "      <td>22</td>\n",
              "      <td>377</td>\n",
              "      <td>1.0</td>\n",
              "    </tr>\n",
              "    <tr>\n",
              "      <th>3</th>\n",
              "      <td>244</td>\n",
              "      <td>51</td>\n",
              "      <td>2.0</td>\n",
              "    </tr>\n",
              "    <tr>\n",
              "      <th>4</th>\n",
              "      <td>166</td>\n",
              "      <td>346</td>\n",
              "      <td>1.0</td>\n",
              "    </tr>\n",
              "  </tbody>\n",
              "</table>\n",
              "</div>"
            ],
            "text/plain": [
              "  user_id item_id  rating\n",
              "0     196     242     3.0\n",
              "1     186     302     3.0\n",
              "2      22     377     1.0\n",
              "3     244      51     2.0\n",
              "4     166     346     1.0"
            ]
          },
          "metadata": {
            "tags": []
          },
          "execution_count": 20
        }
      ]
    },
    {
      "cell_type": "code",
      "metadata": {
        "id": "NvP03a6CB9tG",
        "colab_type": "code",
        "outputId": "e76d62f6-fb47-4b7e-afe7-65635a3eabea",
        "colab": {
          "base_uri": "https://localhost:8080/",
          "height": 68
        }
      },
      "source": [
        "print(f\"Number of ratings: {len(df)}\")\n",
        "print(f\"Number of users: {df.user_id.nunique()}\")\n",
        "print(f\"Number of items: {df.item_id.nunique()}\")"
      ],
      "execution_count": 0,
      "outputs": [
        {
          "output_type": "stream",
          "text": [
            "Number of ratings: 100000\n",
            "Number of users: 943\n",
            "Number of items: 1682\n"
          ],
          "name": "stdout"
        }
      ]
    },
    {
      "cell_type": "markdown",
      "metadata": {
        "id": "0ogkNd8_6qhR",
        "colab_type": "text"
      },
      "source": [
        "## Rating statistics\n",
        "\n",
        "Let's see some basic statistics of the rating values."
      ]
    },
    {
      "cell_type": "code",
      "metadata": {
        "id": "K2CEA6Gj_0Xk",
        "colab_type": "code",
        "outputId": "888e5dbd-f0c3-425b-e404-2f5b567a8801",
        "colab": {
          "base_uri": "https://localhost:8080/",
          "height": 170
        }
      },
      "source": [
        "df.rating.describe()"
      ],
      "execution_count": 0,
      "outputs": [
        {
          "output_type": "execute_result",
          "data": {
            "text/plain": [
              "count    100000.000000\n",
              "mean          3.529860\n",
              "std           1.125674\n",
              "min           1.000000\n",
              "25%           3.000000\n",
              "50%           4.000000\n",
              "75%           4.000000\n",
              "max           5.000000\n",
              "Name: rating, dtype: float64"
            ]
          },
          "metadata": {
            "tags": []
          },
          "execution_count": 5
        }
      ]
    },
    {
      "cell_type": "markdown",
      "metadata": {
        "id": "KTU110zoCxL_",
        "colab_type": "text"
      },
      "source": [
        "We can plot rating values to see how it's being distributed.  \n",
        "\n",
        "*   1st figure shows frequency of each rating.\n",
        "*   2nd figure describes the distribution in the form of box plot.\n",
        "\n",
        "Generally, more than 50% of the rating values lie between {3, 4}, rating 5 is also common, while {1, 2} are less likely. "
      ]
    },
    {
      "cell_type": "code",
      "metadata": {
        "id": "yRFavS6Z6Eef",
        "colab_type": "code",
        "outputId": "042186d4-fd30-4a48-ef7b-88c2dec29916",
        "colab": {
          "base_uri": "https://localhost:8080/",
          "height": 351
        }
      },
      "source": [
        "fig, axes = plt.subplots(nrows=1, ncols=2, figsize=(13, 5))\n",
        "sns.countplot(x=\"rating\", data=df, palette=\"ch:.25\", ax=axes[0])\n",
        "sns.boxplot(x=\"rating\", data=df, palette=\"ch:.25\", ax=axes[1])"
      ],
      "execution_count": 0,
      "outputs": [
        {
          "output_type": "execute_result",
          "data": {
            "text/plain": [
              "<matplotlib.axes._subplots.AxesSubplot at 0x7f9c0edca780>"
            ]
          },
          "metadata": {
            "tags": []
          },
          "execution_count": 6
        },
        {
          "output_type": "display_data",
          "data": {
            "image/png": "[encoded data removed]",
            "text/plain": [
              "<Figure size 936x360 with 2 Axes>"
            ]
          },
          "metadata": {
            "tags": [],
            "needs_background": "light"
          }
        }
      ]
    },
    {
      "cell_type": "markdown",
      "metadata": {
        "id": "bEl-Val6AATX",
        "colab_type": "text"
      },
      "source": [
        "## Sparsity of the data\n",
        "\n",
        "Data sparsity is one of the main challenge in recommender systems.  It arises from the phenomenom that a user only gives ratings to a limited number of items.  A lot of times we will see users having only one or a few interactions.\n",
        "\n",
        "We measure the sparsity based on the number of available ratings and the size of rating matrix."
      ]
    },
    {
      "cell_type": "code",
      "metadata": {
        "id": "dMxRFTCZb7Nl",
        "colab_type": "code",
        "outputId": "aa86ea18-971d-4645-da38-889790877d6a",
        "colab": {
          "base_uri": "https://localhost:8080/",
          "height": 119
        }
      },
      "source": [
        "n_users = df.user_id.nunique()\n",
        "n_items = df.item_id.nunique()\n",
        "n_ratings = len(df)\n",
        "rating_matrix_size = n_users * n_items\n",
        "sparsity = 1 - n_ratings / rating_matrix_size\n",
        "\n",
        "print(f\"Number of users: {n_users}\")\n",
        "print(f\"Number of items: {n_items}\")\n",
        "print(f\"Number of available ratings: {n_ratings}\")\n",
        "print(f\"Number of all possible ratings: {rating_matrix_size}\")\n",
        "print(\"-\" * 40)\n",
        "print(f\"SPARSITY: {sparsity * 100.0:.2f}%\")"
      ],
      "execution_count": 0,
      "outputs": [
        {
          "output_type": "stream",
          "text": [
            "Number of users: 943\n",
            "Number of items: 1682\n",
            "Number of available ratings: 100000\n",
            "Number of all possible ratings: 1586126\n",
            "----------------------------------------\n",
            "SPARSITY: 93.70%\n"
          ],
          "name": "stdout"
        }
      ]
    },
    {
      "cell_type": "markdown",
      "metadata": {
        "id": "rr4DfqtKNEP6",
        "colab_type": "text"
      },
      "source": [
        "For the MovieLens dataset that we are working on, it's considered dense as each user having at least 20 ratings.  For a lot of other datasets, the sparsity is normally greater than 99%.  "
      ]
    },
    {
      "cell_type": "markdown",
      "metadata": {
        "id": "_lsIYji1AdLE",
        "colab_type": "text"
      },
      "source": [
        "## Power-Law distribution\n",
        "\n",
        "In recommendation, another important phenomenom is a [power-law/long-tailed distribution](https://en.wikipedia.org/wiki/Power_law).  It implies that some of the items are very popular and frequently rated by users, while a lot of other items are rated by very few users.\n",
        "\n",
        "First, we count the number of ratings by item.  As shown below the top 10 rated items."
      ]
    },
    {
      "cell_type": "code",
      "metadata": {
        "id": "RSDMsfx3BE8M",
        "colab_type": "code",
        "outputId": "21226dfb-2e55-4bc9-feaf-b8b32b678b53",
        "colab": {
          "base_uri": "https://localhost:8080/",
          "height": 221
        }
      },
      "source": [
        "item_rate_count = df.groupby(\"item_id\")[\"user_id\"].nunique().sort_values(ascending=False)\n",
        "item_rate_count.head(10)"
      ],
      "execution_count": 22,
      "outputs": [
        {
          "output_type": "execute_result",
          "data": {
            "text/plain": [
              "item_id\n",
              "50     583\n",
              "258    509\n",
              "100    508\n",
              "181    507\n",
              "294    485\n",
              "286    481\n",
              "288    478\n",
              "1      452\n",
              "300    431\n",
              "121    429\n",
              "Name: user_id, dtype: int64"
            ]
          },
          "metadata": {
            "tags": []
          },
          "execution_count": 22
        }
      ]
    },
    {
      "cell_type": "markdown",
      "metadata": {
        "id": "2AtQ6i0pQcdN",
        "colab_type": "text"
      },
      "source": [
        "Let's see the list of 10 least rated items.  All of them are only rated by 1 user."
      ]
    },
    {
      "cell_type": "code",
      "metadata": {
        "id": "uliBlfUQQsH5",
        "colab_type": "code",
        "colab": {
          "base_uri": "https://localhost:8080/",
          "height": 221
        },
        "outputId": "5b6c9dd8-fa11-4bd1-ecc8-e5f2ca92538d"
      },
      "source": [
        "item_rate_count.tail(10)"
      ],
      "execution_count": 25,
      "outputs": [
        {
          "output_type": "execute_result",
          "data": {
            "text/plain": [
              "item_id\n",
              "1630    1\n",
              "1632    1\n",
              "1633    1\n",
              "1634    1\n",
              "1635    1\n",
              "1352    1\n",
              "1636    1\n",
              "1637    1\n",
              "1638    1\n",
              "1669    1\n",
              "Name: user_id, dtype: int64"
            ]
          },
          "metadata": {
            "tags": []
          },
          "execution_count": 25
        }
      ]
    },
    {
      "cell_type": "markdown",
      "metadata": {
        "id": "r8ojASrWRAiW",
        "colab_type": "text"
      },
      "source": [
        "Below we visualize the rating count information.\n",
        "\n",
        "*   1st figure shows the rating frequency of items (sorted by the values).  We can easily observe the long-tailed shape discussed earlier.\n",
        "*   2nd figure is the [log-log plot](https://en.wikipedia.org/wiki/Log%E2%80%93log_plot) showing the relationship between number of items and number of ratings in log scale.   The relationship is asymptotically linear, which is the main characteristic of a power-law distribution.\n",
        "\n"
      ]
    },
    {
      "cell_type": "code",
      "metadata": {
        "id": "9MZ1E89vZnRt",
        "colab_type": "code",
        "outputId": "a1881b16-79fe-46b0-ac62-bc0c4610a464",
        "colab": {
          "base_uri": "https://localhost:8080/",
          "height": 350
        }
      },
      "source": [
        "fig, axes = plt.subplots(nrows=1, ncols=2, figsize=(13, 5))\n",
        "\n",
        "axes[0].bar(x=item_rate_count.index, height=item_rate_count.values, width=1.0, align=\"edge\")\n",
        "axes[0].set_xticks([])\n",
        "axes[0].set(title=\"long tail of rating frequency\", \n",
        "            xlabel=\"item ordered by decreasing frequency\", \n",
        "            ylabel=\"#ratings\")\n",
        "\n",
        "count = item_rate_count.value_counts()\n",
        "sns.scatterplot(x=np.log(count.index), y=np.log(count.values), ax=axes[1])\n",
        "axes[1].set(title=\"log-log plot\", xlabel=\"#ratings (log scale)\", ylabel=\"#items (log scale)\");"
      ],
      "execution_count": 0,
      "outputs": [
        {
          "output_type": "display_data",
          "data": {
            "image/png": "[encoded data removed]",
            "text/plain": [
              "<Figure size 936x360 with 2 Axes>"
            ]
          },
          "metadata": {
            "tags": [],
            "needs_background": "light"
          }
        }
      ]
    },
    {
      "cell_type": "markdown",
      "metadata": {
        "id": "0lzUa-5yePlS",
        "colab_type": "text"
      },
      "source": [
        "# 3. Recommendation based on item popularity\n",
        "\n",
        "As we discussed earlier that some items are much more popular than the rest.  It reflects the fact that some of the items are mutually liked by a majority of users.  From that observation, it inspires a very simple approach for providing recommendations based on popularity (i.e., number of ratings) of the items.   \n",
        "\n",
        "Let's do a simple experiment with the popularity approach.  In this experiment, we will split data into 5 folds for cross-validation.  For each run, 4 folds will be used for training and the other fold will be used for evaluation. \n",
        "\n",
        "![image.png](data:image/png;base64,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)"
      ]
    },
    {
      "cell_type": "code",
      "metadata": {
        "id": "SYc3vV3ZegV_",
        "colab_type": "code",
        "outputId": "40d1f646-a9ee-4d7b-c5b7-0d6783e2b32e",
        "colab": {
          "base_uri": "https://localhost:8080/",
          "height": 272
        }
      },
      "source": [
        "# 5-fold cross validation\n",
        "eval_method = cornac.eval_methods.CrossValidation(data, n_folds=5, seed=42)\n",
        "\n",
        "# recommender system based on item popularity\n",
        "most_pop = cornac.models.MostPop()\n",
        "\n",
        "# recall@20 measurement\n",
        "rec_20 = cornac.metrics.Recall(k=20)\n",
        "\n",
        "# put everything together into an experiment\n",
        "cornac.Experiment(eval_method=eval_method, models=[most_pop], metrics=[rec_20]).run()"
      ],
      "execution_count": 29,
      "outputs": [
        {
          "output_type": "stream",
          "text": [
            "\n",
            "TEST:\n",
            "...\n",
            "[MostPop]\n",
            "       | Recall@20 | Train (s) | Test (s)\n",
            "------ + --------- + --------- + --------\n",
            "Fold 0 |    0.1263 |    0.0055 |   0.4423\n",
            "Fold 1 |    0.1304 |    0.0054 |   0.4054\n",
            "Fold 2 |    0.1337 |    0.0054 |   0.4065\n",
            "Fold 3 |    0.1252 |    0.0054 |   0.4255\n",
            "Fold 4 |    0.1187 |    0.0054 |   0.4178\n",
            "------ + --------- + --------- + --------\n",
            "Mean   |    0.1269 |    0.0054 |   0.4195\n",
            "Std    |    0.0051 |    0.0000 |   0.0136\n",
            "\n"
          ],
          "name": "stdout"
        }
      ]
    }
  ]
}