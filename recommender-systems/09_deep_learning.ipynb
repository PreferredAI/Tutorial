{
  "nbformat": 4,
  "nbformat_minor": 0,
  "metadata": {
    "colab": {
      "name": "09_deep_learning.ipynb",
      "provenance": [],
      "collapsed_sections": []
    },
    "kernelspec": {
      "name": "python3",
      "display_name": "Python 3"
    },
    "accelerator": "GPU"
  },
  "cells": [
    {
      "cell_type": "markdown",
      "metadata": {
        "id": "xLXWx4uhqtYJ",
        "colab_type": "text"
      },
      "source": [
        "<table class=\"tfo-notebook-buttons\" align=\"left\">\n",
        "  <td>\n",
        "    <a target=\"_blank\" href=\"https://colab.research.google.com/github/PreferredAI/tutorials/blob/master/recommender-systems/09_deep_learning.ipynb\"><img src=\"https://www.tensorflow.org/images/colab_logo_32px.png\" />Run in Google Colab</a>\n",
        "  </td>\n",
        "  <td>\n",
        "    <a target=\"_blank\" href=\"https://github.com/PreferredAI/tutorials/blob/master/recommender-systems/09_deep_learning.ipynb\"><img src=\"https://www.tensorflow.org/images/GitHub-Mark-32px.png\" />View source on GitHub</a>\n",
        "  </td>\n",
        "</table>"
      ]
    },
    {
      "cell_type": "markdown",
      "metadata": {
        "id": "wzPrmZOMtXt1",
        "colab_type": "text"
      },
      "source": [
        "# Deep Learning"
      ]
    },
    {
      "cell_type": "markdown",
      "metadata": {
        "id": "Bh3gYub8f6qZ",
        "colab_type": "text"
      },
      "source": [
        "Recently deep learning has produced significant advancements on various machine learning tasks. To develop an appreciation of how deep learning has an effect on recommender systems, in this tutorial we look into example models from two broad categories. One models collaborative filtering or user-item interaction data, while the other models content associated with items (or users)."
      ]
    },
    {
      "cell_type": "markdown",
      "metadata": {
        "id": "MqktDa7H2hKz",
        "colab_type": "text"
      },
      "source": [
        "## 1. Setup"
      ]
    },
    {
      "cell_type": "code",
      "metadata": {
        "id": "41oWCMUG2eC_",
        "colab_type": "code",
        "colab": {}
      },
      "source": [
        "!pip install --quiet cornac==1.7.1"
      ],
      "execution_count": 1,
      "outputs": []
    },
    {
      "cell_type": "code",
      "metadata": {
        "id": "YqKrDcGH2k7E",
        "colab_type": "code",
        "colab": {
          "base_uri": "https://localhost:8080/",
          "height": 102
        },
        "outputId": "ac9e0246-3b29-43bc-8c62-7dc27026bfbf"
      },
      "source": [
        "import os\n",
        "import sys\n",
        "\n",
        "import cornac\n",
        "from cornac.data import Reader\n",
        "from cornac.datasets import movielens, citeulike\n",
        "from cornac.eval_methods import RatioSplit\n",
        "from cornac.models import GMF, MLP, NeuMF, VAECF, CDL, ConvMF, WMF, CTR \n",
        "from cornac.data import TextModality\n",
        "from cornac.data.text import BaseTokenizer\n",
        "\n",
        "%tensorflow_version 1.x\n",
        "import tensorflow as tf\n",
        "\n",
        "print(f\"System version: {sys.version}\")\n",
        "print(f\"Cornac version: {cornac.__version__}\")\n",
        "print(f\"Tensorflow version: {tf.__version__}\")\n",
        "\n",
        "SEED = 42\n",
        "VERBOSE = True"
      ],
      "execution_count": 2,
      "outputs": [
        {
          "output_type": "stream",
          "text": [
            "TensorFlow 1.x selected.\n",
            "System version: 3.6.9 (default, Apr 18 2020, 01:56:04) \n",
            "[GCC 8.4.0]\n",
            "Cornac version: 1.7.1\n",
            "Tensorflow version: 1.15.2\n"
          ],
          "name": "stdout"
        }
      ]
    },
    {
      "cell_type": "markdown",
      "metadata": {
        "id": "r76coF3ZyWxb",
        "colab_type": "text"
      },
      "source": [
        "## 2. Deep Learning for Collaborative Filtering\n",
        "\n",
        "In this section, we study two frameworks of deep learning, and how they can be used to model user-item interactions.  Neural collaborative filtering is based on multi-layer perceptrons, while as suggested by its name, variational autoencoder for collaborative filtering is based on VAE.\n"
      ]
    },
    {
      "cell_type": "markdown",
      "metadata": {
        "id": "0GePqE99j5nr",
        "colab_type": "text"
      },
      "source": [
        "### Neural Collaborative Filtering\n",
        "\n",
        "Neural collaborative filtering consists of a family of models developed based on neural networks to tackle the problem of collaborative filtering based on implicit feedback.  The final model NeuMF is a combination of two components, namely Generalized Matrix Factorization (GMF) and Multi-Layer Perceptrons (MLP), which are also independent models respectively.\n",
        "\n",
        "- GMF projects element-wise product between user and item embedding vectors through *Sigmoid* function to out the prediction:\n",
        "<!-- \\begin{equation}\n",
        "\\hat{y}_{ij} = \\sigma \\big(\\mathbf{w}^T (\\mathbf{u}_i \\odot \\mathbf{v}_j)\\big) = \\sigma \\big(\\sum_{k=1}^{K} w_k . u_{ik} . v_{jk}\\big)\n",
        "\\end{equation} -->\n",
        "<p align=\"center\">\n",
        "<img src=\"data:image/png;base64,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\" />\n",
        "</p>\n",
        "where $\\odot$ is element-wise product, $\\mathbf{u}_i$ and $\\mathbf{v}_j$ are user and item embeddings, $\\mathbf{w}$ are the projection weights, and $\\sigma$ is the *Sigmoid* function.\n",
        "\n",
        "- MLP projects concatenation of user and item embeddings through multiple layers:\n",
        "<!-- \\begin{align*}\n",
        "\\mathbf{z}_1 & = \\phi_1 (\\mathbf{u}_i, \\mathbf{v}_j) = \\begin{bmatrix} \\mathbf{u}_i\\\\ \\mathbf{v}_j \\end{bmatrix} \\\\\n",
        "\\mathbf{z}_2 & = \\phi_2 (\\mathbf{w}_2^T \\mathbf{z}_1 + b_2) \\\\\n",
        "\\vdots & \\\\\n",
        "\\mathbf{z}_L & = \\phi_L (\\mathbf{w}_L^T \\mathbf{z}_{L-1} + b_L) \\\\\n",
        "\\hat{y}_{ij} & = \\sigma (\\mathbf{w}_{L+1}^T \\mathbf{z}_L) \n",
        "\\end{align*} -->\n",
        "<p align=\"center\">\n",
        "<img src=\"data:image/png;base64,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\" />\n",
        "</p>\n",
        "where $\\phi$ is a non-linear activation function (could be *Tanh* as recommended by the authors).\n",
        "\n",
        "- NeuMF is a fusion of GMF and MLP:\n",
        "<!-- \\begin{equation}\n",
        "\\hat{y}_{ij} = \\sigma \\bigg(\\mathbf{w}^T \\begin{bmatrix} \\mathbf{u}_i \\odot \\mathbf{v}_j \\\\ \\mathbf{z}_L \\end{bmatrix} \\bigg)\n",
        "\\end{equation} -->\n",
        "<p align=\"center\">\n",
        "<img src=\"data:image/png;base64,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\" />\n",
        "</p>\n",
        "\n",
        "The models are learned by minimizing log-loss function:\n",
        "<!-- \\begin{align*}\n",
        "\\mathcal{L}  & = - \\sum_{(u,i) \\in \\mathbf{R}^+} \\log \\hat{y}_{ui} - \\sum_{(u,i) \\in \\mathbf{R}^-} \\log (1 - \\hat{y}_{ui}) \\\\\n",
        "& = - \\sum_{(u,i) \\in \\mathbf{R}^+ \\cup \\mathbf{R}^- } y_{ui} \\log \\hat{y}_{ui} + (1 - y_{ui}) \\log (1 - \\hat{y}_{ui})\n",
        "\\end{align*} -->\n",
        "<p align=\"center\">\n",
        "<img src=\"data:image/png;base64,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\" />\n",
        "</p>\n",
        "\n",
        "Let's try the models all together! "
      ]
    },
    {
      "cell_type": "code",
      "metadata": {
        "id": "p2iyzuFFs1Fq",
        "colab_type": "code",
        "colab": {
          "base_uri": "https://localhost:8080/",
          "height": 187
        },
        "outputId": "2efb0200-5e2d-4674-e766-353c0663cb83"
      },
      "source": [
        "GMF_FACTORS = 8  # @param\n",
        "MLP_LAYERS = [32, 16, 8]  # @param\n",
        "ACTIVATION = \"tanh\"  # @param [\"tanh\", \"sigmoid\", \"relu\", \"leaky_relu\"]\n",
        "NEG_SAMPLES = 3  # @param\n",
        "NUM_EPOCHS = 10  # @param \n",
        "BATCH_SIZE = 256  # @param\n",
        "LEARNING_RATE = 0.001  # @param\n",
        "\n",
        "gmf = GMF(num_factors=GMF_FACTORS, num_epochs=NUM_EPOCHS, batch_size=BATCH_SIZE, \n",
        "          num_neg=NEG_SAMPLES, lr=LEARNING_RATE, seed=SEED, verbose=VERBOSE)\n",
        "mlp = MLP(layers=MLP_LAYERS, act_fn=ACTIVATION, num_epochs=NUM_EPOCHS, batch_size=BATCH_SIZE, \n",
        "          num_neg=NEG_SAMPLES, lr=LEARNING_RATE, seed=SEED, verbose=VERBOSE)\n",
        "neumf = NeuMF(num_factors=GMF_FACTORS, layers=MLP_LAYERS, act_fn=ACTIVATION, num_epochs=NUM_EPOCHS,\n",
        "              num_neg=NEG_SAMPLES, batch_size=BATCH_SIZE, lr=LEARNING_RATE, seed=SEED, verbose=VERBOSE)\n",
        "\n",
        "wmf = WMF(k=GMF_FACTORS, max_iter=200, learning_rate=0.001, seed=SEED, verbose=VERBOSE)\n",
        "\n",
        "ml_100k = movielens.load_feedback(variant=\"100K\", reader=Reader(bin_threshold=4.0))\n",
        "ratio_split = RatioSplit(\n",
        "  data=ml_100k, test_size=0.2, exclude_unknowns=True, seed=SEED, verbose=VERBOSE\n",
        ")\n",
        "ndcg_50 = cornac.metrics.NDCG(k=50)\n",
        "rec_50 = cornac.metrics.Recall(k=50)\n",
        "\n",
        "cornac.Experiment(\n",
        "  eval_method=ratio_split,\n",
        "  models=[gmf, mlp, neumf, wmf],\n",
        "  metrics=[ndcg_50, rec_50],\n",
        ").run()"
      ],
      "execution_count": 3,
      "outputs": [
        {
          "output_type": "stream",
          "text": [
            "\n",
            "TEST:\n",
            "...\n",
            "      | NDCG@50 | Recall@50 | Train (s) | Test (s)\n",
            "----- + ------- + --------- + --------- + --------\n",
            "GMF   |  0.1609 |    0.2778 |   43.2287 |   1.4973\n",
            "MLP   |  0.1630 |    0.2807 |   42.7741 |   1.5705\n",
            "NeuMF |  0.2412 |    0.4268 |   43.8981 |   1.7990\n",
            "WMF   |  0.1976 |    0.3753 |    8.4105 |   0.7220\n",
            "\n"
          ],
          "name": "stdout"
        }
      ]
    },
    {
      "cell_type": "markdown",
      "metadata": {
        "id": "QUFnKYm-uWLh",
        "colab_type": "text"
      },
      "source": [
        "### Variational Autoencoder for Collaborative Filtering (VAECF)\n",
        "\n",
        "\n",
        "Variational Autoencoders (VAE) is a type of autoencoders which is a neural network with auto-associative mapping of inputs.  Normal autoencoders learns a determinisic latent representation of an input, while VAE learns a distribution of that representation.  VAECF model extends VAE for the collaborative filtering problem with implicit feedback data.\n",
        "\n",
        "Let the data for user $i$ (e.g., history clicks) be a vector $\\mathbf{x}_i \\in \\mathbb{N}^M$ where M is the number of items.  The generative model of VAECF can be described as follows:\n",
        "\n",
        "- User latent representation is sampled from standard Gaussion prior: $\\mathbf{u}_i \\sim \\mathcal{N}(0, \\mathbf{I}_K)$\n",
        "\n",
        "- $\\mathbf{z}_i$ is transformed via a non-linear function $f_{\\theta}$ to produce a probability distribution over items (normalized using *softmax*): $\\pi(\\mathbf{u}_i) \\propto \\exp \\{ f_{\\theta}(\\mathbf{u}_i) \\}$\n",
        "\n",
        "- User data $\\mathbf{x}_i$ is assumed to have been drawn from the multinomial distribution: $\\mathbf{x}_i \\sim \\mathrm{Mult}(N_i, \\pi(\\mathbf{u}_i))$\n",
        "\n",
        "The Multinomial (*mult*) log-likelihood for user $i$ conditioned on the latent representation is:\n",
        "\n",
        "\\begin{equation}\n",
        "\\log p_{\\theta} (\\mathbf{x}_i | \\mathbf{u}_i) = \\mathcal{L}_{mult} = \\sum_{i=1}^{N} \\sum_{j=1}^{M} x_{ij} \\log \\pi_j(\\mathbf{u}_i)\n",
        "\\end{equation}\n",
        "\n",
        "Other choices of likelihood including Bernoulli (*bern*), Gaussian (*gaus*), or Poisson (*pois*) can be used:\n",
        "\n",
        "\\begin{align*}\n",
        "\\mathcal{L}_{bern} &= \\sum_{i=1}^{N} \\sum_{j=1}^{M} x_{ij} \\log \\sigma(f_{\\theta}(\\mathbf{u}_i)_j) + (1 - x_{ij}) \\log (1 - \\sigma(f_{\\theta}(\\mathbf{u}_i)_j)) \\\\\n",
        "\\mathcal{L}_{gaus} &= \\sum_{i=1}^{N} \\sum_{j=1}^{M} - (x_{ij} - \\sigma(f_{\\theta}(\\mathbf{u}_i)_j))^2  \\\\\n",
        "\\mathcal{L}_{pois} &= \\sum_{i=1}^{N} \\sum_{j=1}^{M} x_{ij} \\log \\sigma(f_{\\theta}(\\mathbf{u}_i)_j) - \\sigma(f_{\\theta}(\\mathbf{u}_i)_j) \\\\\n",
        "\\end{align*}\n",
        "\n",
        "\n",
        "\n",
        "The encoder-decoder architecture is due to the use of amortized inference, a technique of variational inference, for learning the generative model (**decoder**) $f_{\\theta}$.  Amortized inference learns an inference model (**encoder**) $g_{\\phi} (\\mathbf{x}_i) \\equiv [\\mu_{\\phi}(\\mathbf{x}_i), \\sigma_{\\phi}(\\mathbf{x}_i)]$, which makes use of the observed data $\\mathbf{x}_i$ to approximate the true intractable posterior $p(\\mathbf{u}_i | \\mathbf{x}_i)$ with a simpler variational distribution:\n",
        "\n",
        "\\begin{equation}\n",
        "q_{\\phi}(\\mathbf{u}_i | \\mathbf{x}_i) = \\mathcal{N} (\\mu_{\\phi}(\\mathbf{x}_i), \\mathrm{diag}\\{\\sigma_{\\phi}^2(\\mathbf{x}_i)\\}) \n",
        "\\end{equation}\n",
        "\n",
        "\n",
        "Learning the model parameters $\\{\\theta, \\phi\\}$ is done via maximizing the evidence lower bound (ELBO):\n",
        "\n",
        "\\begin{equation}\n",
        "\\mathcal{L}_{\\beta} = \\mathbb{E}_{q_{\\phi} (\\mathbf{u}_i | \\mathbf{x}_i)} [\\log p_{\\theta} (\\mathbf{x}_i | \\mathbf{u}_i)] - \\beta . \\mathrm{KL}(q_{\\phi} (\\mathbf{u}_i | \\mathbf{x}_i) || p(\\mathbf{u}_i))\n",
        "\\end{equation}\n",
        "\n",
        "where $\\beta$ is a hyper-parameter to control the strength of regularization introduced by enforcing small Kullback-Leibler (KL) divergence between posterior $q_{\\phi} (\\mathbf{u}_i | \\mathbf{x}_i)$ and the prior $p(\\mathbf{u}_i)$.\n",
        "\n"
      ]
    },
    {
      "cell_type": "code",
      "metadata": {
        "id": "ndiIw1WJ8Ghv",
        "colab_type": "code",
        "colab": {
          "base_uri": "https://localhost:8080/",
          "height": 153
        },
        "outputId": "3e77890a-108c-4877-c03c-3864c092f513"
      },
      "source": [
        "NUM_FACTORS = 25  # @param\n",
        "AE_LAYERS = [100, 50]  # @param\n",
        "ACTIVATION = \"tanh\"  # @param [\"tanh\", \"sigmoid\", \"relu\", \"leaky_relu\"]\n",
        "LIKELIHOOD = \"bern\"  # @param [\"bern\", \"mult\", \"gaus\", \"pois\"]\n",
        "NUM_EPOCHS = 600  # @param \n",
        "BATCH_SIZE = 256  # @param\n",
        "LEARNING_RATE = 0.001  # @param\n",
        "\n",
        "vaecf = VAECF(k=NUM_FACTORS, autoencoder_structure=AE_LAYERS, act_fn=ACTIVATION,\n",
        "              likelihood=LIKELIHOOD, n_epochs=NUM_EPOCHS, batch_size=BATCH_SIZE,\n",
        "              learning_rate=LEARNING_RATE, seed=SEED, verbose=VERBOSE, use_gpu=True)\n",
        "\n",
        "wmf = WMF(k=NUM_FACTORS, max_iter=200, learning_rate=0.001, seed=SEED, verbose=VERBOSE)\n",
        "\n",
        "ml_100k = movielens.load_feedback(variant=\"100K\", reader=Reader(bin_threshold=4.0))\n",
        "ratio_split = RatioSplit(\n",
        "  data=ml_100k, test_size=0.2, exclude_unknowns=True, seed=SEED, verbose=VERBOSE\n",
        ")\n",
        "\n",
        "cornac.Experiment(\n",
        "  eval_method=ratio_split, models=[vaecf, wmf], metrics=[rec_50, ndcg_50],\n",
        ").run()"
      ],
      "execution_count": 4,
      "outputs": [
        {
          "output_type": "stream",
          "text": [
            "\n",
            "TEST:\n",
            "...\n",
            "      | NDCG@50 | Recall@50 | Train (s) | Test (s)\n",
            "----- + ------- + --------- + --------- + --------\n",
            "VAECF |  0.2405 |    0.4250 |   29.1858 |   1.6399\n",
            "WMF   |  0.2045 |    0.3958 |    8.8830 |   0.7460\n",
            "\n"
          ],
          "name": "stdout"
        }
      ]
    },
    {
      "cell_type": "markdown",
      "metadata": {
        "id": "-8iXcfuKsVa8",
        "colab_type": "text"
      },
      "source": [
        "## 3. Deep Learning for Content-Based Filtering\n",
        "\n",
        "A different way to use deep learning is to model the content of items (or users).  The key idea is to derive low-dimensional representations from this content, originally in the form of text, images, etc., and to use these representations to enhance recommender systems in a similar way to content-based methods.  In the following, we illustrate two examples based on autoencoder and convolutional neural networks respectively."
      ]
    },
    {
      "cell_type": "markdown",
      "metadata": {
        "id": "742yJ53Fj1Zz",
        "colab_type": "text"
      },
      "source": [
        "### Collaborative Deep Learning (CDL)\n",
        "\n",
        "CDL makes use of Stacked-Denoising Autoencoders (SDAE) to model item text content, with the objective of improving upon Collaborative Topic Regression (CTR) model making use of topic model for the similar purpose.  CDL is a hierarchical Bayesian model, the generative process is as follows:\n",
        "\n",
        "- For each user $i$\n",
        "  - Draw latent vector $\\mathbf{u}_i \\sim \\mathcal{N}(0, \\lambda^{-1} \\mathbf{I})$\n",
        "- For each item $j$\n",
        "  - Put its corrupted content $\\mathbf{x}_j^{0}$ through SDAE\n",
        "  - Draw clean content $\\mathbf{x}_j \\sim \\mathcal{N}(\\mathbf{x}_L, \\lambda^{-1}\\mathbf{I})$\n",
        "    - User middle representation $\\mathbf{x}_j^{L/2}$\n",
        "  - Draw item offset $\\mathbf{\\epsilon}_j \\sim \\mathcal{N}(0, \\lambda^{-1} \\mathbf{I})$\n",
        "  - Set item latent vector $\\mathbf{v}_j$ to be: $\\mathbf{v}_j = \\mathbf{\\epsilon}_j + \\mathbf{x}_j^{L/2}$\n",
        "- For each user-item pair $(i, j)$\n",
        "  - Draw rating $r_{ij} \\sim \\mathcal{N}(\\mathbf{u}_i^T \\mathbf{v}_j, c_{ij}^{-1})$\n",
        "\n",
        "The confidence parameter $c_{ij}$ is defined similar to that for CTR:\n",
        "\n",
        "\\begin{equation}\n",
        "c_{i,j} = \n",
        "\\begin{cases} \n",
        "a & \\mbox{if } r_{i,j} > 0 \\\\\n",
        "b & \\mbox{otherwise }\n",
        "\\end{cases}\n",
        "\\end{equation}\n",
        "\n",
        "Learning CDL model is done via minimizing the loss function:\n",
        "\n",
        "\\begin{align*}\n",
        "\\mathcal{L} = & \\frac{\\lambda_u}{2} \\sum_{i} || \\mathbf{u}_i ||_2^2 + \\frac{\\lambda_w}{2} \\sum_{l} (||\\mathbf{W}_l||_F^2 + ||\\mathbf{b}_l||^2) \\\\\n",
        "& + \\frac{\\lambda_v}{2} \\sum_{j} || \\mathbf{v}_j - \\mathbf{x}^{\\frac{L}{2}}_{j} ||_2^2 \\\\\n",
        "& + \\frac{\\lambda_n}{2} \\sum_{j} || \\mathbf{x}^{L}_{j} - \\mathbf{x}^{c}_{j} ||_2^2 \\\\\n",
        "& +  \\sum_{i,j} \\frac{c_{ij}}{2} (r_{ij} - \\mathbf{u}_i^T \\mathbf{v}_j)^2\n",
        "\\end{align*}\n",
        "\n",
        "\n",
        "Let's do a comparison between CDL and CTR models."
      ]
    },
    {
      "cell_type": "code",
      "metadata": {
        "id": "NZ2Al6omrlEP",
        "colab_type": "code",
        "colab": {
          "base_uri": "https://localhost:8080/",
          "height": 153
        },
        "outputId": "ac62b452-feae-408f-b2f8-43e408e05d52"
      },
      "source": [
        "VOCAB_SIZE = 2000  # @param\n",
        "NUM_FACTORS = 50  # @param\n",
        "AE_LAYERS = [500, 100]  # @param\n",
        "ACTIVATION = \"tanh\"  # @param [\"tanh\", \"sigmoid\", \"relu\", \"leaky_relu\"]\n",
        "A = 1.0  # @param\n",
        "B = 0.01  # @param\n",
        "LAMBDA_U = 0.1  # @param\n",
        "LAMBDA_V = 0.1  # @param\n",
        "LAMBDA_W = 0.1  # @param\n",
        "LAMBDA_N = 10.0  # @param\n",
        "CORRUPTION_RATE = 0.3  # @param\n",
        "DROPOUT_RATE = 0.1  # @param\n",
        "NUM_EPOCHS = 100  # @param \n",
        "BATCH_SIZE = 100  # @param\n",
        "LEARNING_RATE = 0.001  # @param\n",
        "\n",
        "cdl = CDL(k=NUM_FACTORS, autoencoder_structure=AE_LAYERS, act_fn=ACTIVATION, a=A, b=B,\n",
        "          lambda_u=LAMBDA_U, lambda_v=LAMBDA_V, lambda_w=LAMBDA_W, lambda_n=LAMBDA_N,\n",
        "          corruption_rate=CORRUPTION_RATE, dropout_rate=DROPOUT_RATE, vocab_size=VOCAB_SIZE,\n",
        "          max_iter=NUM_EPOCHS, batch_size=BATCH_SIZE, seed=SEED, verbose=VERBOSE)\n",
        "\n",
        "ctr = CTR(k=NUM_FACTORS, max_iter=NUM_EPOCHS, a=A, b=B, lambda_u=LAMBDA_U, lambda_v=LAMBDA_V, seed=SEED, verbose=VERBOSE)\n",
        "\n",
        "plots, movie_ids = movielens.load_plot()\n",
        "feedback = movielens.load_feedback(variant=\"100k\", reader=Reader(item_set=movie_ids, bin_threshold=4.0))\n",
        "item_text_modality = TextModality(\n",
        "  corpus=plots, ids=movie_ids, tokenizer=BaseTokenizer(sep=\"\\t\", stop_words=\"english\"), max_vocab=VOCAB_SIZE,\n",
        ")\n",
        "\n",
        "ratio_split = RatioSplit(\n",
        "  data=feedback, \n",
        "  test_size=0.2, \n",
        "  exclude_unknowns=True, \n",
        "  item_text=item_text_modality, \n",
        "  seed=SEED, verbose=VERBOSE,\n",
        ")\n",
        "\n",
        "cornac.Experiment(eval_method=ratio_split, models=[cdl, ctr], metrics=[rec_50, ndcg_50]).run()"
      ],
      "execution_count": 7,
      "outputs": [
        {
          "output_type": "stream",
          "text": [
            "\n",
            "TEST:\n",
            "...\n",
            "    | NDCG@50 | Recall@50 | Train (s) | Test (s)\n",
            "--- + ------- + --------- + --------- + --------\n",
            "CDL |  0.2063 |    0.4066 |   25.0348 |   0.7186\n",
            "CTR |  0.1865 |    0.3343 |  117.5390 |   0.7346\n",
            "\n"
          ],
          "name": "stdout"
        }
      ]
    },
    {
      "cell_type": "markdown",
      "metadata": {
        "id": "r-8mCmABFe8e",
        "colab_type": "text"
      },
      "source": [
        "### Convolutional Matrix Factorization (ConvMF)\n",
        "\n",
        "ConvMF model integrates convolutional neural network (CNN) into probabilistic matrix factorization (PMF).  The model captures contextual information of item documents (e.g., reviews, abstracts, or synopses) and further enhances the rating prediction accuracy.  The generative process is as follows:\n",
        "\n",
        "- For each user $i$\n",
        "  - Draw latent vector $\\mathbf{u}_i \\sim \\mathcal{N}(0, \\lambda^{-1} \\mathbf{I})$\n",
        "- For each item $j$\n",
        "  - Put its content $\\mathbf{x}_j$ through CNN parameterized by $\\mathbf{W}$\n",
        "  - Draw item offset $\\mathbf{\\epsilon}_j \\sim \\mathcal{N}(0, \\lambda^{-1} \\mathbf{I})$\n",
        "  - Set item latent vector $\\mathbf{v}_j$ to be: $\\mathbf{v}_j = \\mathbf{\\epsilon}_j + \\mathrm{CNN}(\\mathbf{W}, \\mathbf{x}_j)$\n",
        "- For each user-item pair $(i, j)$\n",
        "  - Draw rating $r_{ij} \\sim \\mathcal{N}(\\mathbf{u}_i^T \\mathbf{v}_j, \\sigma^2)$\n",
        "\n",
        "Learning ConvMF model is done via minimizing the following negative log-likelihood function:\n",
        "\n",
        "\\begin{equation}\n",
        "\\mathcal{L} = \\sum_{(i,j)\\in \\mathbf{R}} (r_{ij} - \\mathbf{u}_i^T \\mathbf{v}_j)^2 + \\lambda_u \\sum_{i}^{N} || \\mathbf{u}_i ||^2 + \\lambda_v \\sum_{j}^{M} || \\mathbf{v}_j - \\mathrm{CNN}(\\mathbf{W}, \\mathbf{x}_j)||^2 +\\lambda_\\mathbf{W} \\sum_{w_l \\in \\mathbf{W}} ||w_k||^2 \n",
        "\\end{equation}\n"
      ]
    },
    {
      "cell_type": "code",
      "metadata": {
        "id": "vhO9P63eQwLs",
        "colab_type": "code",
        "colab": {
          "base_uri": "https://localhost:8080/",
          "height": 136
        },
        "outputId": "c3c2d39b-acea-4e66-8dc1-b0df78d237f4"
      },
      "source": [
        "VOCAB_SIZE = 2000  # @param\n",
        "NUM_FACTORS = 5  # @param\n",
        "HIDDEN_DIM = 50  # @param\n",
        "CNN_FILTER_SIZES = [2, 3, 4, 5]  # @param\n",
        "CNN_NUM_FILTERS = 128  # @param\n",
        "WORD_EMB_DIM = 32  # @param\n",
        "SEQ_MAX_LENGTH = 50  # @param\n",
        "DROPOUT_RATE = 0.2  # @param\n",
        "LAMBDA_U = 0.1  # @param\n",
        "LAMBDA_V = 0.1  # @param\n",
        "NUM_EPOCHS = 5  # @param\n",
        "CNN_EPOCHS = 3  # @param\n",
        "CNN_BATCH_SIZE = 256  # @param\n",
        "CNN_LEARNING_RATE = 0.001  # @param\n",
        "\n",
        "convmf = ConvMF(k=NUM_FACTORS, n_epochs=NUM_EPOCHS, cnn_epochs=CNN_EPOCHS, cnn_bs=CNN_BATCH_SIZE,\n",
        "                cnn_lr=CNN_LEARNING_RATE, emb_dim=WORD_EMB_DIM, max_len=SEQ_MAX_LENGTH,\n",
        "                filter_sizes=CNN_FILTER_SIZES, num_filters=CNN_NUM_FILTERS, hidden_dim=HIDDEN_DIM, \n",
        "                dropout_rate=DROPOUT_RATE, lambda_u=LAMBDA_U, lambda_v=LAMBDA_V,\n",
        "                seed=SEED, verbose=VERBOSE)\n",
        "\n",
        "plots, movie_ids = movielens.load_plot()\n",
        "feedback = movielens.load_feedback(variant=\"100k\", reader=Reader(item_set=movie_ids))\n",
        "item_text_modality = TextModality(\n",
        "  corpus=plots, ids=movie_ids, tokenizer=BaseTokenizer(sep=\"\\t\", stop_words=\"english\"), max_vocab=VOCAB_SIZE,\n",
        ")\n",
        "\n",
        "ratio_split = RatioSplit(\n",
        "  data=feedback, \n",
        "  test_size=0.2, \n",
        "  rating_threshold=4.0, \n",
        "  exclude_unknowns=True, \n",
        "  item_text=item_text_modality, \n",
        "  seed=SEED, \n",
        "  verbose=VERBOSE\n",
        ")\n",
        "\n",
        "rmse = cornac.metrics.RMSE()\n",
        "\n",
        "cornac.Experiment(\n",
        "  eval_method=ratio_split, models=[convmf], metrics=[rmse, rec_50], user_based=False\n",
        ").run()"
      ],
      "execution_count": 6,
      "outputs": [
        {
          "output_type": "stream",
          "text": [
            "\n",
            "TEST:\n",
            "...\n",
            "       |   RMSE | Recall@50 | Train (s) | Test (s)\n",
            "------ + ------ + --------- + --------- + --------\n",
            "ConvMF | 0.9795 |    0.0075 |   12.0318 |   0.7525\n",
            "\n"
          ],
          "name": "stdout"
        }
      ]
    },
    {
      "cell_type": "markdown",
      "metadata": {
        "id": "0FmiuTYiP_pB",
        "colab_type": "text"
      },
      "source": [
        "## References\n",
        "\n",
        "1.   He, X., Liao, L., Zhang, H., Nie, L., Hu, X., & Chua, T. S. (2017, April). Neural collaborative filtering. In Proceedings of the 26th international conference on world wide web (pp. 173-182).\n",
        "2.   Liang, D., Krishnan, R. G., Hoffman, M. D., & Jebara, T. (2018, April). Variational autoencoders for collaborative filtering. In Proceedings of the 2018 World Wide Web Conference (pp. 689-698).\n",
        "3.   Wang, H., Wang, N., & Yeung, D. Y. (2015, August). Collaborative deep learning for recommender systems. In Proceedings of the 21th ACM SIGKDD international conference on knowledge discovery and data mining (pp. 1235-1244).\n",
        "4.   Kim, D., Park, C., Oh, J., Lee, S., & Yu, H. (2016, September). Convolutional matrix factorization for document context-aware recommendation. In Proceedings of the 10th ACM conference on recommender systems (pp. 233-240).\n",
        "5.   Cornac - A Comparative Framework for Multimodal Recommender Systems (https://cornac.preferred.ai/)"
      ]
    }
  ]
}